{
    "cells": [
        {
            "cell_type": "code",
            "execution_count": 2,
            "metadata": {},
            "outputs": [
                {
                    "name": "stdout",
                    "output_type": "stream",
                    "text": "Cloning into 'HMP_Dataset'...\nremote: Enumerating objects: 865, done.\u001b[K\nremote: Total 865 (delta 0), reused 0 (delta 0), pack-reused 865\u001b[K\nReceiving objects: 100% (865/865), 1010.96 KiB | 0 bytes/s, done.\n"
                }
            ],
            "source": "!git clone https://github.com/wchill/HMP_Dataset.git"
        },
        {
            "cell_type": "code",
            "execution_count": 3,
            "metadata": {},
            "outputs": [
                {
                    "name": "stdout",
                    "output_type": "stream",
                    "text": "Brush_teeth\tDrink_glass  Getup_bed\t  Pour_water\t Use_telephone\r\nClimb_stairs\tEat_meat     impdata.py   README.txt\t Walk\r\nComb_hair\tEat_soup     Liedown_bed  Sitdown_chair\r\nDescend_stairs\tfinal.py     MANUAL.txt   Standup_chair\r\n"
                }
            ],
            "source": "! ls HMP_Dataset"
        },
        {
            "cell_type": "code",
            "execution_count": 4,
            "metadata": {},
            "outputs": [
                {
                    "name": "stdout",
                    "output_type": "stream",
                    "text": "Accelerometer-2011-04-11-13-28-18-brush_teeth-f1.txt\r\nAccelerometer-2011-04-11-13-29-54-brush_teeth-f1.txt\r\nAccelerometer-2011-05-30-08-35-11-brush_teeth-f1.txt\r\nAccelerometer-2011-05-30-09-36-50-brush_teeth-f1.txt\r\nAccelerometer-2011-05-30-10-34-16-brush_teeth-m1.txt\r\nAccelerometer-2011-05-30-21-10-57-brush_teeth-f1.txt\r\nAccelerometer-2011-05-30-21-55-04-brush_teeth-m2.txt\r\nAccelerometer-2011-05-31-15-16-47-brush_teeth-f1.txt\r\nAccelerometer-2011-06-02-10-42-22-brush_teeth-f1.txt\r\nAccelerometer-2011-06-02-10-45-50-brush_teeth-f1.txt\r\nAccelerometer-2011-06-06-10-45-27-brush_teeth-f1.txt\r\nAccelerometer-2011-06-06-10-48-05-brush_teeth-f1.txt\r\n"
                }
            ],
            "source": "! ls HMP_Dataset/Brush_teeth"
        },
        {
            "cell_type": "code",
            "execution_count": 6,
            "metadata": {},
            "outputs": [
                {
                    "name": "stdout",
                    "output_type": "stream",
                    "text": "Collecting pyspark\n\u001b[?25l  Downloading https://files.pythonhosted.org/packages/e9/e4/5c15ab8d354c4e3528510821865e6748209a9b0ff6a1788f4cd36cc2a5dc/pyspark-2.4.6.tar.gz (218.4MB)\n\u001b[K     |\u2588\u2588\u2588\u2588\u2588\u2588\u2588\u2588\u2588\u2588\u2588\u2588\u2588\u2588\u2588\u2588\u2588\u2588\u2588\u2588\u2588\u2588\u2588\u2588\u2588\u2588\u2588\u2588\u2588\u2588\u2588\u2588| 218.4MB 164kB/s  eta 0:00:01                    | 37.0MB 6.0MB/s eta 0:00:31\n\u001b[?25hCollecting py4j==0.10.7 (from pyspark)\n\u001b[?25l  Downloading https://files.pythonhosted.org/packages/e3/53/c737818eb9a7dc32a7cd4f1396e787bd94200c3997c72c1dbe028587bd76/py4j-0.10.7-py2.py3-none-any.whl (197kB)\n\u001b[K     |\u2588\u2588\u2588\u2588\u2588\u2588\u2588\u2588\u2588\u2588\u2588\u2588\u2588\u2588\u2588\u2588\u2588\u2588\u2588\u2588\u2588\u2588\u2588\u2588\u2588\u2588\u2588\u2588\u2588\u2588\u2588\u2588| 204kB 36.8MB/s eta 0:00:01\n\u001b[?25hBuilding wheels for collected packages: pyspark\n  Building wheel for pyspark (setup.py) ... \u001b[?25ldone\n\u001b[?25h  Stored in directory: /home/dsxuser/.cache/pip/wheels/1e/5e/6a/17e906c94ec7246f260330a66e44a06a0809033ba2738a74a8\nSuccessfully built pyspark\nInstalling collected packages: py4j, pyspark\nSuccessfully installed py4j-0.10.7 pyspark-2.4.6\n"
                }
            ],
            "source": "!pip install pyspark"
        },
        {
            "cell_type": "code",
            "execution_count": 8,
            "metadata": {},
            "outputs": [
                {
                    "data": {
                        "text/plain": "['Descend_stairs',\n 'Climb_stairs',\n 'Standup_chair',\n 'Eat_meat',\n 'Drink_glass',\n 'Liedown_bed',\n 'Brush_teeth',\n 'Use_telephone',\n 'Eat_soup',\n 'Pour_water',\n 'Getup_bed',\n 'Sitdown_chair',\n 'Comb_hair']"
                    },
                    "execution_count": 8,
                    "metadata": {},
                    "output_type": "execute_result"
                }
            ],
            "source": "import os\n#keep only datafile names\nfileList = os.listdir(\"HMP_Dataset\")\nfileListFilter = [s for s in fileList if \"_\" in s]\nfileListFilter"
        },
        {
            "cell_type": "code",
            "execution_count": 11,
            "metadata": {},
            "outputs": [],
            "source": "from pyspark.sql.types import StructType,StructField,IntegerType\n#creating schema\nschema = StructType([StructField(\"x\",IntegerType(),True),\n                    StructField(\"y\",IntegerType(),True),\n                    StructField(\"z\",IntegerType(),True)])"
        },
        {
            "cell_type": "code",
            "execution_count": 15,
            "metadata": {},
            "outputs": [],
            "source": "from pyspark.sql import SparkSession\nspark = SparkSession.builder.getOrCreate()\n"
        },
        {
            "cell_type": "code",
            "execution_count": 19,
            "metadata": {},
            "outputs": [],
            "source": "from pyspark.sql.functions import lit\n#for each file in fileListfitler \ndf = None\nfor cat in fileListFilter:\n    dataFile= os.listdir('HMP_Dataset/'+cat)\n    \n    #for each data in each file\n    for data in dataFile:\n#         print(data)\n        \n        #creating temp dataframe\n        temp_df = spark.read.option(\"header\",\"false\").option(\"delimiter\",\" \").csv(\"HMP_Dataset/\"+cat+'/'+data,schema=schema)\n\n        #creating two new colums to know the data name(ex: accelerometer) and source names\n        temp_df = temp_df.withColumn(\"class\",lit(cat))\n        temp_df = temp_df.withColumn(\"source\",lit(data))\n        \n        #adding to df\n        if df is None:\n            #for first iteration\n            df = temp_df\n        else:\n            #appending for every loop\n            df = df.union(temp_df)\n            "
        },
        {
            "cell_type": "code",
            "execution_count": 20,
            "metadata": {},
            "outputs": [
                {
                    "name": "stdout",
                    "output_type": "stream",
                    "text": "+---+---+---+--------------+--------------------+\n|  x|  y|  z|         class|              source|\n+---+---+---+--------------+--------------------+\n| 37| 48| 42|Descend_stairs|Accelerometer-201...|\n| 39| 45| 40|Descend_stairs|Accelerometer-201...|\n| 39| 45| 40|Descend_stairs|Accelerometer-201...|\n| 39| 33| 40|Descend_stairs|Accelerometer-201...|\n| 39| 43| 41|Descend_stairs|Accelerometer-201...|\n| 39| 45| 41|Descend_stairs|Accelerometer-201...|\n| 40| 44| 40|Descend_stairs|Accelerometer-201...|\n| 41| 45| 40|Descend_stairs|Accelerometer-201...|\n| 37| 52| 43|Descend_stairs|Accelerometer-201...|\n| 36| 46| 40|Descend_stairs|Accelerometer-201...|\n| 32| 49| 40|Descend_stairs|Accelerometer-201...|\n| 28| 53| 43|Descend_stairs|Accelerometer-201...|\n| 27| 44| 39|Descend_stairs|Accelerometer-201...|\n| 21| 52| 43|Descend_stairs|Accelerometer-201...|\n| 20| 47| 42|Descend_stairs|Accelerometer-201...|\n| 21| 45| 42|Descend_stairs|Accelerometer-201...|\n| 17| 47| 42|Descend_stairs|Accelerometer-201...|\n| 15| 47| 41|Descend_stairs|Accelerometer-201...|\n| 14| 42| 40|Descend_stairs|Accelerometer-201...|\n| 11| 42| 38|Descend_stairs|Accelerometer-201...|\n+---+---+---+--------------+--------------------+\nonly showing top 20 rows\n\n"
                }
            ],
            "source": "df.show()"
        },
        {
            "cell_type": "code",
            "execution_count": 23,
            "metadata": {},
            "outputs": [
                {
                    "name": "stdout",
                    "output_type": "stream",
                    "text": "+---+---+---+--------------+--------------------+----------+\n|  x|  y|  z|         class|              source|classIndex|\n+---+---+---+--------------+--------------------+----------+\n| 37| 48| 42|Descend_stairs|Accelerometer-201...|       9.0|\n| 39| 45| 40|Descend_stairs|Accelerometer-201...|       9.0|\n| 39| 45| 40|Descend_stairs|Accelerometer-201...|       9.0|\n| 39| 33| 40|Descend_stairs|Accelerometer-201...|       9.0|\n| 39| 43| 41|Descend_stairs|Accelerometer-201...|       9.0|\n| 39| 45| 41|Descend_stairs|Accelerometer-201...|       9.0|\n| 40| 44| 40|Descend_stairs|Accelerometer-201...|       9.0|\n| 41| 45| 40|Descend_stairs|Accelerometer-201...|       9.0|\n| 37| 52| 43|Descend_stairs|Accelerometer-201...|       9.0|\n| 36| 46| 40|Descend_stairs|Accelerometer-201...|       9.0|\n| 32| 49| 40|Descend_stairs|Accelerometer-201...|       9.0|\n| 28| 53| 43|Descend_stairs|Accelerometer-201...|       9.0|\n| 27| 44| 39|Descend_stairs|Accelerometer-201...|       9.0|\n| 21| 52| 43|Descend_stairs|Accelerometer-201...|       9.0|\n| 20| 47| 42|Descend_stairs|Accelerometer-201...|       9.0|\n| 21| 45| 42|Descend_stairs|Accelerometer-201...|       9.0|\n| 17| 47| 42|Descend_stairs|Accelerometer-201...|       9.0|\n| 15| 47| 41|Descend_stairs|Accelerometer-201...|       9.0|\n| 14| 42| 40|Descend_stairs|Accelerometer-201...|       9.0|\n| 11| 42| 38|Descend_stairs|Accelerometer-201...|       9.0|\n+---+---+---+--------------+--------------------+----------+\nonly showing top 20 rows\n\n"
                }
            ],
            "source": "#categorical values in categorical indices\nfrom pyspark.ml.feature import StringIndexer\n\nlabel = StringIndexer(inputCol=\"class\",outputCol=\"classIndex\")\nlabeled = label.fit(df).transform(df)\nlabeled.show()\n\n"
        },
        {
            "cell_type": "code",
            "execution_count": 27,
            "metadata": {},
            "outputs": [
                {
                    "name": "stdout",
                    "output_type": "stream",
                    "text": "+---+---+---+--------------+--------------------+----------+--------------+\n|  x|  y|  z|         class|              source|classIndex|vectorCategory|\n+---+---+---+--------------+--------------------+----------+--------------+\n| 37| 48| 42|Descend_stairs|Accelerometer-201...|       9.0|(12,[9],[1.0])|\n| 39| 45| 40|Descend_stairs|Accelerometer-201...|       9.0|(12,[9],[1.0])|\n| 39| 45| 40|Descend_stairs|Accelerometer-201...|       9.0|(12,[9],[1.0])|\n| 39| 33| 40|Descend_stairs|Accelerometer-201...|       9.0|(12,[9],[1.0])|\n| 39| 43| 41|Descend_stairs|Accelerometer-201...|       9.0|(12,[9],[1.0])|\n| 39| 45| 41|Descend_stairs|Accelerometer-201...|       9.0|(12,[9],[1.0])|\n| 40| 44| 40|Descend_stairs|Accelerometer-201...|       9.0|(12,[9],[1.0])|\n| 41| 45| 40|Descend_stairs|Accelerometer-201...|       9.0|(12,[9],[1.0])|\n| 37| 52| 43|Descend_stairs|Accelerometer-201...|       9.0|(12,[9],[1.0])|\n| 36| 46| 40|Descend_stairs|Accelerometer-201...|       9.0|(12,[9],[1.0])|\n| 32| 49| 40|Descend_stairs|Accelerometer-201...|       9.0|(12,[9],[1.0])|\n| 28| 53| 43|Descend_stairs|Accelerometer-201...|       9.0|(12,[9],[1.0])|\n| 27| 44| 39|Descend_stairs|Accelerometer-201...|       9.0|(12,[9],[1.0])|\n| 21| 52| 43|Descend_stairs|Accelerometer-201...|       9.0|(12,[9],[1.0])|\n| 20| 47| 42|Descend_stairs|Accelerometer-201...|       9.0|(12,[9],[1.0])|\n| 21| 45| 42|Descend_stairs|Accelerometer-201...|       9.0|(12,[9],[1.0])|\n| 17| 47| 42|Descend_stairs|Accelerometer-201...|       9.0|(12,[9],[1.0])|\n| 15| 47| 41|Descend_stairs|Accelerometer-201...|       9.0|(12,[9],[1.0])|\n| 14| 42| 40|Descend_stairs|Accelerometer-201...|       9.0|(12,[9],[1.0])|\n| 11| 42| 38|Descend_stairs|Accelerometer-201...|       9.0|(12,[9],[1.0])|\n+---+---+---+--------------+--------------------+----------+--------------+\nonly showing top 20 rows\n\n"
                }
            ],
            "source": "#OneHotEncoder for catergorical indicies\nfrom pyspark.ml.feature import OneHotEncoder\n\nencoder = OneHotEncoder(inputCol='classIndex',outputCol=\"vectorCategory\")\nencoded = encoder.transform(labeled)\n\nencoded.show()"
        },
        {
            "cell_type": "code",
            "execution_count": 29,
            "metadata": {},
            "outputs": [
                {
                    "name": "stdout",
                    "output_type": "stream",
                    "text": "+---+---+---+--------------+--------------------+----------+--------------+----------------+\n|  x|  y|  z|         class|              source|classIndex|vectorCategory|        features|\n+---+---+---+--------------+--------------------+----------+--------------+----------------+\n| 37| 48| 42|Descend_stairs|Accelerometer-201...|       9.0|(12,[9],[1.0])|[37.0,48.0,42.0]|\n| 39| 45| 40|Descend_stairs|Accelerometer-201...|       9.0|(12,[9],[1.0])|[39.0,45.0,40.0]|\n| 39| 45| 40|Descend_stairs|Accelerometer-201...|       9.0|(12,[9],[1.0])|[39.0,45.0,40.0]|\n| 39| 33| 40|Descend_stairs|Accelerometer-201...|       9.0|(12,[9],[1.0])|[39.0,33.0,40.0]|\n| 39| 43| 41|Descend_stairs|Accelerometer-201...|       9.0|(12,[9],[1.0])|[39.0,43.0,41.0]|\n| 39| 45| 41|Descend_stairs|Accelerometer-201...|       9.0|(12,[9],[1.0])|[39.0,45.0,41.0]|\n| 40| 44| 40|Descend_stairs|Accelerometer-201...|       9.0|(12,[9],[1.0])|[40.0,44.0,40.0]|\n| 41| 45| 40|Descend_stairs|Accelerometer-201...|       9.0|(12,[9],[1.0])|[41.0,45.0,40.0]|\n| 37| 52| 43|Descend_stairs|Accelerometer-201...|       9.0|(12,[9],[1.0])|[37.0,52.0,43.0]|\n| 36| 46| 40|Descend_stairs|Accelerometer-201...|       9.0|(12,[9],[1.0])|[36.0,46.0,40.0]|\n| 32| 49| 40|Descend_stairs|Accelerometer-201...|       9.0|(12,[9],[1.0])|[32.0,49.0,40.0]|\n| 28| 53| 43|Descend_stairs|Accelerometer-201...|       9.0|(12,[9],[1.0])|[28.0,53.0,43.0]|\n| 27| 44| 39|Descend_stairs|Accelerometer-201...|       9.0|(12,[9],[1.0])|[27.0,44.0,39.0]|\n| 21| 52| 43|Descend_stairs|Accelerometer-201...|       9.0|(12,[9],[1.0])|[21.0,52.0,43.0]|\n| 20| 47| 42|Descend_stairs|Accelerometer-201...|       9.0|(12,[9],[1.0])|[20.0,47.0,42.0]|\n| 21| 45| 42|Descend_stairs|Accelerometer-201...|       9.0|(12,[9],[1.0])|[21.0,45.0,42.0]|\n| 17| 47| 42|Descend_stairs|Accelerometer-201...|       9.0|(12,[9],[1.0])|[17.0,47.0,42.0]|\n| 15| 47| 41|Descend_stairs|Accelerometer-201...|       9.0|(12,[9],[1.0])|[15.0,47.0,41.0]|\n| 14| 42| 40|Descend_stairs|Accelerometer-201...|       9.0|(12,[9],[1.0])|[14.0,42.0,40.0]|\n| 11| 42| 38|Descend_stairs|Accelerometer-201...|       9.0|(12,[9],[1.0])|[11.0,42.0,38.0]|\n+---+---+---+--------------+--------------------+----------+--------------+----------------+\nonly showing top 20 rows\n\n"
                }
            ],
            "source": "#input features to vectors\n\nfrom pyspark.ml.linalg import Vectors\nfrom pyspark.ml.feature import VectorAssembler\n\nvector = VectorAssembler(inputCols=[\"x\",\"y\",\"z\"],outputCol=\"features\")\nvectorised = vector.transform(encoded)\n\nvectorised.show()"
        },
        {
            "cell_type": "code",
            "execution_count": 32,
            "metadata": {},
            "outputs": [
                {
                    "name": "stdout",
                    "output_type": "stream",
                    "text": "+---+---+---+--------------+--------------------+----------+--------------+----------------+--------------------+\n|  x|  y|  z|         class|              source|classIndex|vectorCategory|        features|        feature_Norm|\n+---+---+---+--------------+--------------------+----------+--------------+----------------+--------------------+\n| 37| 48| 42|Descend_stairs|Accelerometer-201...|       9.0|(12,[9],[1.0])|[37.0,48.0,42.0]|[0.50179006401732...|\n| 39| 45| 40|Descend_stairs|Accelerometer-201...|       9.0|(12,[9],[1.0])|[39.0,45.0,40.0]|[0.54366292339213...|\n| 39| 45| 40|Descend_stairs|Accelerometer-201...|       9.0|(12,[9],[1.0])|[39.0,45.0,40.0]|[0.54366292339213...|\n| 39| 33| 40|Descend_stairs|Accelerometer-201...|       9.0|(12,[9],[1.0])|[39.0,33.0,40.0]|[0.60106793320933...|\n| 39| 43| 41|Descend_stairs|Accelerometer-201...|       9.0|(12,[9],[1.0])|[39.0,43.0,41.0]|[0.54875175572205...|\n| 39| 45| 41|Descend_stairs|Accelerometer-201...|       9.0|(12,[9],[1.0])|[39.0,45.0,41.0]|[0.53943405072652...|\n| 40| 44| 40|Descend_stairs|Accelerometer-201...|       9.0|(12,[9],[1.0])|[40.0,44.0,40.0]|[0.55814557218594...|\n| 41| 45| 40|Descend_stairs|Accelerometer-201...|       9.0|(12,[9],[1.0])|[41.0,45.0,40.0]|[0.56285980242023...|\n| 37| 52| 43|Descend_stairs|Accelerometer-201...|       9.0|(12,[9],[1.0])|[37.0,52.0,43.0]|[0.48080339161102...|\n| 36| 46| 40|Descend_stairs|Accelerometer-201...|       9.0|(12,[9],[1.0])|[36.0,46.0,40.0]|[0.50850703969305...|\n| 32| 49| 40|Descend_stairs|Accelerometer-201...|       9.0|(12,[9],[1.0])|[32.0,49.0,40.0]|[0.45142119414950...|\n| 28| 53| 43|Descend_stairs|Accelerometer-201...|       9.0|(12,[9],[1.0])|[28.0,53.0,43.0]|[0.37955853580464...|\n| 27| 44| 39|Descend_stairs|Accelerometer-201...|       9.0|(12,[9],[1.0])|[27.0,44.0,39.0]|[0.41731515072125...|\n| 21| 52| 43|Descend_stairs|Accelerometer-201...|       9.0|(12,[9],[1.0])|[21.0,52.0,43.0]|[0.29716319953956...|\n| 20| 47| 42|Descend_stairs|Accelerometer-201...|       9.0|(12,[9],[1.0])|[20.0,47.0,42.0]|[0.30244071561610...|\n| 21| 45| 42|Descend_stairs|Accelerometer-201...|       9.0|(12,[9],[1.0])|[21.0,45.0,42.0]|[0.32288592281010...|\n| 17| 47| 42|Descend_stairs|Accelerometer-201...|       9.0|(12,[9],[1.0])|[17.0,47.0,42.0]|[0.26040073078098...|\n| 15| 47| 41|Descend_stairs|Accelerometer-201...|       9.0|(12,[9],[1.0])|[15.0,47.0,41.0]|[0.23383328952568...|\n| 14| 42| 40|Descend_stairs|Accelerometer-201...|       9.0|(12,[9],[1.0])|[14.0,42.0,40.0]|[0.23464053310389...|\n| 11| 42| 38|Descend_stairs|Accelerometer-201...|       9.0|(12,[9],[1.0])|[11.0,42.0,38.0]|[0.19064955134186...|\n+---+---+---+--------------+--------------------+----------+--------------+----------------+--------------------+\nonly showing top 20 rows\n\n"
                }
            ],
            "source": "#data normailzation\n\nfrom pyspark.ml.feature import Normalizer\nnormalizer = Normalizer(inputCol=\"features\",outputCol=\"feature_Norm\")\n\nnormalized_data = normalizer.transform(vectorised)\n\nnormalized_data.show()"
        },
        {
            "cell_type": "code",
            "execution_count": 36,
            "metadata": {},
            "outputs": [
                {
                    "name": "stdout",
                    "output_type": "stream",
                    "text": "+---+---+---+--------------+--------------------+----------+--------------+----------------+--------------------+\n|  x|  y|  z|         class|              source|classIndex|vectorCategory|        features|        feature_Norm|\n+---+---+---+--------------+--------------------+----------+--------------+----------------+--------------------+\n| 37| 48| 42|Descend_stairs|Accelerometer-201...|       9.0|(12,[9],[1.0])|[37.0,48.0,42.0]|[0.50179006401732...|\n| 39| 45| 40|Descend_stairs|Accelerometer-201...|       9.0|(12,[9],[1.0])|[39.0,45.0,40.0]|[0.54366292339213...|\n| 39| 45| 40|Descend_stairs|Accelerometer-201...|       9.0|(12,[9],[1.0])|[39.0,45.0,40.0]|[0.54366292339213...|\n| 39| 33| 40|Descend_stairs|Accelerometer-201...|       9.0|(12,[9],[1.0])|[39.0,33.0,40.0]|[0.60106793320933...|\n| 39| 43| 41|Descend_stairs|Accelerometer-201...|       9.0|(12,[9],[1.0])|[39.0,43.0,41.0]|[0.54875175572205...|\n| 39| 45| 41|Descend_stairs|Accelerometer-201...|       9.0|(12,[9],[1.0])|[39.0,45.0,41.0]|[0.53943405072652...|\n| 40| 44| 40|Descend_stairs|Accelerometer-201...|       9.0|(12,[9],[1.0])|[40.0,44.0,40.0]|[0.55814557218594...|\n| 41| 45| 40|Descend_stairs|Accelerometer-201...|       9.0|(12,[9],[1.0])|[41.0,45.0,40.0]|[0.56285980242023...|\n| 37| 52| 43|Descend_stairs|Accelerometer-201...|       9.0|(12,[9],[1.0])|[37.0,52.0,43.0]|[0.48080339161102...|\n| 36| 46| 40|Descend_stairs|Accelerometer-201...|       9.0|(12,[9],[1.0])|[36.0,46.0,40.0]|[0.50850703969305...|\n| 32| 49| 40|Descend_stairs|Accelerometer-201...|       9.0|(12,[9],[1.0])|[32.0,49.0,40.0]|[0.45142119414950...|\n| 28| 53| 43|Descend_stairs|Accelerometer-201...|       9.0|(12,[9],[1.0])|[28.0,53.0,43.0]|[0.37955853580464...|\n| 27| 44| 39|Descend_stairs|Accelerometer-201...|       9.0|(12,[9],[1.0])|[27.0,44.0,39.0]|[0.41731515072125...|\n| 21| 52| 43|Descend_stairs|Accelerometer-201...|       9.0|(12,[9],[1.0])|[21.0,52.0,43.0]|[0.29716319953956...|\n| 20| 47| 42|Descend_stairs|Accelerometer-201...|       9.0|(12,[9],[1.0])|[20.0,47.0,42.0]|[0.30244071561610...|\n| 21| 45| 42|Descend_stairs|Accelerometer-201...|       9.0|(12,[9],[1.0])|[21.0,45.0,42.0]|[0.32288592281010...|\n| 17| 47| 42|Descend_stairs|Accelerometer-201...|       9.0|(12,[9],[1.0])|[17.0,47.0,42.0]|[0.26040073078098...|\n| 15| 47| 41|Descend_stairs|Accelerometer-201...|       9.0|(12,[9],[1.0])|[15.0,47.0,41.0]|[0.23383328952568...|\n| 14| 42| 40|Descend_stairs|Accelerometer-201...|       9.0|(12,[9],[1.0])|[14.0,42.0,40.0]|[0.23464053310389...|\n| 11| 42| 38|Descend_stairs|Accelerometer-201...|       9.0|(12,[9],[1.0])|[11.0,42.0,38.0]|[0.19064955134186...|\n+---+---+---+--------------+--------------------+----------+--------------+----------------+--------------------+\nonly showing top 20 rows\n\n"
                }
            ],
            "source": "#pipeline\n\nfrom pyspark.ml import Pipeline\npipeline = Pipeline(stages=[label,encoder,vector,normalizer])\n\nmodel=pipeline.fit(df)\nprediction = model.transform(df)\n\nprediction.show()"
        },
        {
            "cell_type": "code",
            "execution_count": 37,
            "metadata": {},
            "outputs": [
                {
                    "name": "stdout",
                    "output_type": "stream",
                    "text": "+--------------+--------------------+\n|vectorCategory|        feature_Norm|\n+--------------+--------------------+\n|(12,[9],[1.0])|[0.50179006401732...|\n|(12,[9],[1.0])|[0.54366292339213...|\n|(12,[9],[1.0])|[0.54366292339213...|\n|(12,[9],[1.0])|[0.60106793320933...|\n|(12,[9],[1.0])|[0.54875175572205...|\n|(12,[9],[1.0])|[0.53943405072652...|\n|(12,[9],[1.0])|[0.55814557218594...|\n|(12,[9],[1.0])|[0.56285980242023...|\n|(12,[9],[1.0])|[0.48080339161102...|\n|(12,[9],[1.0])|[0.50850703969305...|\n|(12,[9],[1.0])|[0.45142119414950...|\n|(12,[9],[1.0])|[0.37955853580464...|\n|(12,[9],[1.0])|[0.41731515072125...|\n|(12,[9],[1.0])|[0.29716319953956...|\n|(12,[9],[1.0])|[0.30244071561610...|\n|(12,[9],[1.0])|[0.32288592281010...|\n|(12,[9],[1.0])|[0.26040073078098...|\n|(12,[9],[1.0])|[0.23383328952568...|\n|(12,[9],[1.0])|[0.23464053310389...|\n|(12,[9],[1.0])|[0.19064955134186...|\n+--------------+--------------------+\nonly showing top 20 rows\n\n"
                }
            ],
            "source": "#retaining vectorCategory and feature_Norm for training model\ndf_train = prediction.drop('x').drop('y').drop('z').drop('class').drop('source').drop('features').drop(\"classIndex\")\ndf_train.show()"
        },
        {
            "cell_type": "code",
            "execution_count": null,
            "metadata": {},
            "outputs": [],
            "source": ""
        }
    ],
    "metadata": {
        "kernelspec": {
            "display_name": "Python 3.6",
            "language": "python",
            "name": "python3"
        },
        "language_info": {
            "codemirror_mode": {
                "name": "ipython",
                "version": 3
            },
            "file_extension": ".py",
            "mimetype": "text/x-python",
            "name": "python",
            "nbconvert_exporter": "python",
            "pygments_lexer": "ipython3",
            "version": "3.6.9"
        }
    },
    "nbformat": 4,
    "nbformat_minor": 1
}